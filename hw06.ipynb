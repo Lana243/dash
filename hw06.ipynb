{
 "cells": [
  {
   "cell_type": "markdown",
   "id": "630bb7b5-b1b4-4be5-8464-4364de4ebce1",
   "metadata": {},
   "source": [
    "### Планирование движения"
   ]
  },
  {
   "cell_type": "markdown",
   "id": "f0a34cc8-c67f-4c05-b085-89a6a7068aa7",
   "metadata": {},
   "source": [
    "В данном домашнем задании вам необходимо реализовать свой планер движения. Задача полученного планера -- проехать в симуляции предложенные ниже сценарии. Чем больше сценариев проедет ваш планер, тем выше балл за домашнее задание вы получите."
   ]
  },
  {
   "cell_type": "markdown",
   "id": "181189a6-26b9-4afa-b51b-ecac28f61b95",
   "metadata": {},
   "source": [
    "#### Запуск симулятора"
   ]
  },
  {
   "cell_type": "code",
   "execution_count": null,
   "id": "d63c2c2a-5bcf-46b2-b212-ea0bb7399c4c",
   "metadata": {},
   "outputs": [],
   "source": [
    "%pip install jsonpickle dacite shapely"
   ]
  },
  {
   "cell_type": "code",
   "execution_count": null,
   "id": "190d6777-0346-4857-ac48-263da4d95618",
   "metadata": {},
   "outputs": [],
   "source": [
    "import py_planning\n",
    "py_planning.init()"
   ]
  },
  {
   "cell_type": "code",
   "execution_count": null,
   "id": "62a494bb-2db0-47d2-8abe-82873d370843",
   "metadata": {},
   "outputs": [],
   "source": [
    "# # you can also open http://127.0.0.1:8008 in your browser\n",
    "\n",
    "from IPython.display import IFrame\n",
    "IFrame('http://127.0.0.1:8008', width=\"100%\", height=650)"
   ]
  },
  {
   "cell_type": "markdown",
   "id": "4748bcd7-9a85-40b1-a37a-8d43a3b6a00c",
   "metadata": {},
   "source": [
    "#### Пример планера\n",
    "\n",
    "Ниже для примера представлен простейший планер, который едет по середине дороги. Для того, чтобы проверить его работу, выберите сценарий в визуализации выше при помощи кнопок Load Scenario -> Example Scenarios и запустите ячейку ниже."
   ]
  },
  {
   "cell_type": "code",
   "execution_count": null,
   "id": "d14014d2-ce4d-4047-b5b2-1c018fd4e895",
   "metadata": {},
   "outputs": [],
   "source": [
    "from py_planning.data_types import PlannedPath, PlannedState, State  # data types used by planner interface\n",
    "from shapely.geometry import LineString, Point\n",
    "\n",
    "import time\n",
    "\n",
    "\"\"\"\n",
    "find closest point on a polyline to the given point\n",
    "\"\"\"\n",
    "def get_index_of_closest_point(line: LineString, point: Point):\n",
    "    closest_point_index = None\n",
    "    min_distance = float('inf')\n",
    "\n",
    "    for i, line_point in enumerate(line.coords):\n",
    "        line_point = Point(line_point)\n",
    "        distance = point.distance(line_point)\n",
    "        if distance < min_distance:\n",
    "            min_distance = distance\n",
    "            closest_point_index = i\n",
    "\n",
    "    return closest_point_index\n",
    "\n",
    "\"\"\"\n",
    "This function is called by the simulator for each tick.\n",
    "It should return recent planned trajectory up to date with the environment state.\n",
    "'state' parameter contains current world observations and vehicle state.\n",
    "\"\"\"\n",
    "def do_simple_plan(state: State) -> PlannedPath:\n",
    "    vehicle_pose = state.vehicle_pose\n",
    "    vehicle_pos = Point(vehicle_pose.pos.x, vehicle_pose.pos.y)  # current position of the AV\n",
    "\n",
    "    centerline = LineString([(p.x, p.y) for p in state.lane_path.centerline])\n",
    "\n",
    "    closest_index = get_index_of_closest_point(centerline, vehicle_pos)\n",
    "    current_velocity = vehicle_pose.velocity\n",
    "\n",
    "    # we leave some previous poses to make AV control stable\n",
    "    prev_poses_count = 3\n",
    "    max_poses_count = 50\n",
    "    first_pose_index = max(closest_index - prev_poses_count, 0)\n",
    "\n",
    "    # as a baseline here we just follow the centerline\n",
    "    planned_states = [\n",
    "        PlannedState(pos=p, velocity=current_velocity) for p in state.lane_path.centerline\n",
    "    ][first_pose_index:first_pose_index+ max_poses_count]\n",
    "\n",
    "    return PlannedPath(states=planned_states)\n",
    "\n",
    "# run the case in the simulator, watch the visualization\n",
    "py_planning.run_planner(\n",
    "    do_simple_plan,\n",
    "    stop_on_fail=True  # set to False to continue planning after case fail (useful for debugging)\n",
    ")"
   ]
  },
  {
   "cell_type": "markdown",
   "id": "d6d4f91d-a7ad-439a-a494-b0df6078ab46",
   "metadata": {},
   "source": [
    "#### Ваш планер\n",
    "\n",
    "В ячейке ниже реализуйте функцию `do_plan`. Для этого вы можете использовать любые алгоритмы, например, графовый планер, рассказанный на лекции."
   ]
  },
  {
   "cell_type": "code",
   "execution_count": null,
   "id": "68ef3aaf-541a-4760-9b94-5b504336157b",
   "metadata": {},
   "outputs": [],
   "source": [
    "from py_planning.data_types import PlannedPath, PlannedState, State  # data types used by planner interface\n",
    "\n",
    "\"\"\"\n",
    "This function is called by the simulator for each tick.\n",
    "It should return recent planned trajectory up to date with the environment state.\n",
    "'state' parameter contains current world observations and vehicle state.\n",
    "\"\"\"\n",
    "def do_plan(state: State) -> PlannedPath:\n",
    "    # TODO: implement planning function\n",
    "    pass\n",
    "\n",
    "# run the case in the simulator, watch the visualization\n",
    "py_planning.run_planner(\n",
    "    do_plan,\n",
    "    stop_on_fail=True  # set to False to continue planning after case fail (useful for debugging)\n",
    ")"
   ]
  },
  {
   "cell_type": "markdown",
   "id": "3f2dceff-7a24-4d0b-bbf4-5255fede2aef",
   "metadata": {},
   "source": [
    "#### Оценивание\n",
    "\n",
    "Ваш планер будет проверяться на наборе сценариев. Каждый сценарий задается строкой. Для того, чтобы запустить симулятор на конкретном сценарии, нажмите Load Scenario -> Import Scenario и вставьте соответствующую строку.\n",
    "\n",
    "1. Объехать статику:\n",
    "   - Сценарий №1 (1.5 балла): eyJwIjpbLTEwMi40NjA3OCwyNi4zODUxMywtNjguNjk4MjEsMjUuNzk3NzYsLTU1Ljk0OTEzLDE5LjUwNDI3LC0yNS4zMjI4NCwxMi42MTgzLC0xNi42MDI0LDEwLjc3MzksLTYuNzA4LDExLjc4MDEzLDMxLjM2MDU0LDEyLjExNTU0LDQ3LjA0MDU3LDE0Ljc5ODgsNTYuODUwNDgsMjMuMjY3NzYsNTYuODQ5NzksMzUuMjU4MjgsNDYuOTU1MTEsNDMuODk0NjMsMjUuNDg5NzksNDMuNTU5MjQsOC4xMzMyNiw1Mi4yNzk5LC0xNS4zNDQzNyw2NC4xMDI0Ml0sInMiOlt7InAiOlstNTQuOTY0MjksMjEuMjU1M10sInIiOi0wLjI3NjEyLCJ3IjoyLjc2NzEsImgiOjEuNjc3MDN9LHsicCI6Wy0zNi4wOTI1NCwxMi4zNjk2M10sInIiOjAuMTQ3MjYsInciOjMuNDM3OTEsImgiOjEuODQ0NzV9LHsicCI6Wy0xMy40MTYyNSwxNC4yNTM3XSwiciI6MC4xMTY1OCwidyI6NC42OTU2OCwiaCI6MS40MjU0OX0seyJwIjpbNDQuMDA5MzEsMTguMzgxNjZdLCJyIjowLjI1NzcxLCJ3Ijo0Ljk0NzEzLCJoIjo0LjI3NjQyfSx7InAiOls2Mi43NDY2OSwyOS40MTMzMV0sInIiOjAsInciOjQuMTA4NTUsImgiOjUuODY5NTJ9LHsicCI6WzQ2LjcxMTE5LDM4Ljc0NDY5XSwiciI6MS4xNDc0MiwidyI6NC41Mjc3NSwiaCI6Ni43MDc5NH0seyJwIjpbMTkuNzM1MSw5LjQwNjIxXSwiciI6MC42NTA0MSwidyI6MS45NzE3NywiaCI6MS4wNzU1M30seyJwIjpbMjguOTk2NzksOS43MTcyN10sInIiOjAuMjA4NjIsInciOjEuOTcxNzUsImgiOjEuMDMwNzJ9LHsicCI6WzI0LjE1MjA1LDkuOTM4NzJdLCJyIjotMC4zMTkwNywidyI6MS4yNTQ3NiwiaCI6MC45ODU5fV0sImQiOltdLCJsIjoyNTkuMDg4LCJjIjp7InMiOiIxMCIsInNsIjoiMTAiLCJscCI6MX0sInYiOjF9\n",
    "   - Сценарий №2 (1.5 балла): eyJwIjpbLTE0NS4xNzc4NywtNS4xNDgzMiwtNC42MjI5LC00LjA2NzcxXSwicyI6W3sicCI6Wy0xMDAuNTQ4MjMsLTYuNTIzNjNdLCJyIjowLjA5MTU2LCJ3Ijo0LjA0NTE2LCJoIjoyLjYwMDM5fSx7InAiOlstNzAuNjQzNjcsLTIuNDc4NTldLCJyIjowLCJ3IjozLjc1NjE3LCJoIjoyLjAyMjUyfSx7InAiOlstNDkuODQwNzIsLTYuNTIzNjNdLCJyIjowLCJ3Ijo0LjMzNDAzLCJoIjoyLjYwMDM5fSx7InAiOlstMjAuMzY5NjQsLTEuNzU2MjZdLCJyIjowLCJ3Ijo0LjkxMTg1LCJoIjoyLjg4OTMxfV0sImQiOltdLCJsIjoxNDAuNTU5LCJjIjp7InMiOiIyMCIsInNsIjoiMjAiLCJscCI6MX0sInYiOjF9\n",
    "2. Обогнать агента:\n",
    "   - Сценарий №3 (2 балла): eyJwIjpbLTI5OC4xMjk3OSwzNTcuNTEwNTcsNy41NTQ5NywxMzYuODkyNTUsMjU1LjQ1NDQ2LC0xODYuNjUwNjMsNTg2LjY2Mjg4LC00OTQuNTgwOF0sInMiOltdLCJkIjpbeyJwIjpbIjE1MCIsIjAuNSJdLCJ2IjpbIjE1IiwiMCJdLCJsIjoxLCJ0IjowfV0sImwiOjEyMzguMTI5LCJjIjp7InMiOiIyNSIsInNsIjoiMjUiLCJscCI6MX0sInYiOjF9\n",
    "3. Обогнать двух агентов:\n",
    "   - Сценарий №4 (2 балла): eyJwIjpbLTI3Ni40Njc0LDMwMy4wMDg2NSw0NC44ODU5MywxMjAuODY3MTIsMzA1LjEwNzI5LC00MzUuOTk3MjhdLCJzIjpbXSwiZCI6W3sicCI6WyIxMDAiLCIwLjUiXSwidiI6WyI1IiwiMCJdLCJsIjoxLCJ0IjowfSx7InAiOlsiMTAwIiwiLTAuNSJdLCJ2IjpbIjYiLCIwIl0sImwiOjEsInQiOjB9XSwibCI6OTkwLjU3NiwiYyI6eyJzIjoiMjAiLCJzbCI6IjIwIiwibHAiOjF9LCJ2IjoxfQ==\n",
    "4. Пропустить пешеходов\n",
    "   - Сценарий №5 (1 балл) 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\n",
    "5. Перестроиться в плотный поток\n",
    "   - Сценарий №6: eyJwIjpbLTYyOS4wOTQ2NCwxNi4zMTU4OSwyODEuOTcxNjIsMTQuODE1NjVdLCJzIjpbeyJwIjpbLTQ0MC4wMDE1MiwxMS42MjYwMl0sInIiOjAsInciOjMuMTM3OSwiaCI6My4xMzgwMX0seyJwIjpbLTI1OS43NDAzNiwxMS45ODAxM10sInIiOjAsInciOjIuNTE1NTYsImgiOjQuNDQ0MX0seyJwIjpbOTMuNzEwMTMsMTEuMjcwMzJdLCJyIjowLCJ3Ijo0LjA3OTQ3LCJoIjo3Ljg0NTAxfSx7InAiOlstOTQuNzIyMDgsMTEuMjgxNzJdLCJyIjowLCJ3IjozLjc2NjA5LCJoIjo3LjUzMTIyfV0sImQiOlt7InAiOlsiMzIwIiwiMC41Il0sInYiOlsiMTIiLCIwIl0sImwiOjEsInQiOjB9LHsicCI6WyIyODAiLCIwLjUiXSwidiI6WyIxMiIsIjAiXSwibCI6MSwidCI6MH0seyJwIjpbIjI0MCIsIjAuNSJdLCJ2IjpbIjEyIiwiMCJdLCJsIjoxLCJ0IjowfSx7InAiOlsiMjAwIiwiMC41Il0sInYiOlsiMTIiLCIwIl0sImwiOjEsInQiOjB9LHsicCI6WyIxNjAiLCIwLjUiXSwidiI6WyIxMiIsIjAiXSwibCI6MSwidCI6MH0seyJwIjpbIjEyMCIsIjAuNSJdLCJ2IjpbIjEyIiwiMCJdLCJsIjoxLCJ0IjowfSx7InAiOlsiODAiLCIwLjUiXSwidiI6WyIxMiIsIjAiXSwibCI6MSwidCI6MH0seyJwIjpbIjQwIiwiMC41Il0sInYiOlsiMTIiLCIwIl0sImwiOjEsInQiOjB9LHsicCI6WyIwIiwiMC41Il0sInYiOlsiMTIiLCIwIl0sImwiOjEsInQiOjB9LHsicCI6WyItNDAiLCIwLjUiXSwidiI6WyIxMiIsIjAiXSwibCI6MSwidCI6MH0seyJwIjpbIi04MCIsIjAuNSJdLCJ2IjpbIjEyIiwiMCJdLCJsIjoxLCJ0IjowfSx7InAiOlsiLTEyMCIsIjAuNSJdLCJ2IjpbIjEyIiwiMCJdLCJsIjoxLCJ0IjowfSx7InAiOlsiLTE2MCIsIjAuNSJdLCJ2IjpbIjEyIiwiMCJdLCJsIjoxLCJ0IjowfSx7InAiOlsiLTIwMCIsIjAuNSJdLCJ2IjpbIjEyIiwiMCJdLCJsIjoxLCJ0IjowfV0sImwiOjkxMS4wNjcsImMiOnsicyI6IjI1Iiwic2wiOiIyNSIsImxwIjotMX0sInYiOjF9"
   ]
  },
  {
   "cell_type": "code",
   "execution_count": null,
   "id": "cacb30e2-d9dd-4f27-81e2-9282538d04d2",
   "metadata": {},
   "outputs": [],
   "source": []
  }
 ],
 "metadata": {
  "kernelspec": {
   "display_name": "Python 3 (ipykernel)",
   "language": "python",
   "name": "python3"
  },
  "language_info": {
   "codemirror_mode": {
    "name": "ipython",
    "version": 3
   },
   "file_extension": ".py",
   "mimetype": "text/x-python",
   "name": "python",
   "nbconvert_exporter": "python",
   "pygments_lexer": "ipython3",
   "version": "3.11.7"
  }
 },
 "nbformat": 4,
 "nbformat_minor": 5
}
