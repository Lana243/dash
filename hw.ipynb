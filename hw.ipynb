{
 "cells": [
  {
   "cell_type": "markdown",
   "metadata": {},
   "source": [
    "## Планирование движения"
   ]
  },
  {
   "cell_type": "markdown",
   "metadata": {},
   "source": [
    "В данном домашнем задании вам необходимо реализовать свой планер движения. Задача полученного планера -- проехать в симуляции предложенные ниже сценарии. Чем больше сценариев проедет ваш планер, тем выше балл за домашнее задание вы получите."
   ]
  },
  {
   "cell_type": "markdown",
   "metadata": {},
   "source": [
    "#### Установка зависимостей"
   ]
  },
  {
   "cell_type": "code",
   "execution_count": 1,
   "metadata": {},
   "outputs": [
    {
     "name": "stdout",
     "output_type": "stream",
     "text": [
      "Requirement already satisfied: jsonpickle in /opt/anaconda3/lib/python3.11/site-packages (3.0.3)\n",
      "Requirement already satisfied: dacite in /opt/anaconda3/lib/python3.11/site-packages (1.8.1)\n",
      "Requirement already satisfied: shapely in /opt/anaconda3/lib/python3.11/site-packages (2.0.3)\n",
      "Requirement already satisfied: numpy<2,>=1.14 in /opt/anaconda3/lib/python3.11/site-packages (from shapely) (1.26.4)\n",
      "Note: you may need to restart the kernel to use updated packages.\n"
     ]
    }
   ],
   "source": [
    "%pip install jsonpickle dacite shapely"
   ]
  },
  {
   "cell_type": "markdown",
   "metadata": {},
   "source": [
    "#### Запуск сервера\n",
    "\n",
    "Для каждого запуска ядра ноутбука нужно исполнить эту ячейку один раз."
   ]
  },
  {
   "cell_type": "code",
   "execution_count": 2,
   "metadata": {},
   "outputs": [],
   "source": [
    "import py_planning\n",
    "py_planning.init()\n",
    "\n",
    "def display_simulator(case_name):\n",
    "    from IPython.display import IFrame, display\n",
    "    url = 'http://127.0.0.1:8008?scenario=' + case_name\n",
    "    print(\"You can also open in browser: \" + url)\n",
    "    display(IFrame(url, width=\"100%\", height=650))"
   ]
  },
  {
   "cell_type": "markdown",
   "metadata": {},
   "source": [
    "### Пример планера"
   ]
  },
  {
   "cell_type": "markdown",
   "metadata": {},
   "source": [
    "Чтобы реализовать планер, вам необходимо написать функцию, которая на вход принимает текущее состояние автомобиля и окружающего мира (`State`), а выдает план движения автомобиля (`PlannedState`). Подробно с устройством этих сущностей вы можете ознакомиться в файле `py_planning/data_types.py`.\n",
    "\n",
    "Симулятор итеративно обновляет состояние автомобиля `State`, подаваемое на вход функции планирования, при помощи плана движения, который функция планирования вернула на предыдущей итерации."
   ]
  },
  {
   "cell_type": "markdown",
   "metadata": {},
   "source": [
    "Ниже для примера представлен простейший планер. Функция `do_simple_plan` реализует алгоритм, который планирует движение вдоль центра дороги с постоянной скоростью."
   ]
  },
  {
   "cell_type": "code",
   "execution_count": 3,
   "metadata": {},
   "outputs": [],
   "source": [
    "from py_planning.data_types import PlannedPath, PlannedState, State, Position  # data types used by planner interface\n",
    "from shapely.geometry import LineString, Point\n",
    "\n",
    "import time\n",
    "\n",
    "\"\"\"\n",
    "find closest point on a polyline to the given point\n",
    "\"\"\"\n",
    "def get_index_of_closest_point(line: LineString, point: Point):\n",
    "    closest_point_index = None\n",
    "    min_distance = float('inf')\n",
    "\n",
    "    for i, line_point in enumerate(line.coords):\n",
    "        line_point = Point(line_point)\n",
    "        distance = point.distance(line_point)\n",
    "        if distance < min_distance:\n",
    "            min_distance = distance\n",
    "            closest_point_index = i\n",
    "\n",
    "    return closest_point_index\n",
    "\n",
    "\"\"\"\n",
    "This function is called by the simulator for each tick.\n",
    "It should return recent planned trajectory up to date with the environment state.\n",
    "'state' parameter contains current world observations and vehicle state.\n",
    "\"\"\"\n",
    "def do_simple_plan(state: State) -> PlannedPath:\n",
    "    vehicle_pose = state.vehicle_pose\n",
    "    vehicle_pos = Point(vehicle_pose.pos.x, vehicle_pose.pos.y)  # current position of the AV\n",
    "\n",
    "    centerline = LineString([(p.x, p.y) for p in state.lane_path.centerline])\n",
    "\n",
    "    closest_index = get_index_of_closest_point(centerline, vehicle_pos) + 10\n",
    "    max_poses_count = 70\n",
    "\n",
    "    # as a baseline here we just follow the centerline\n",
    "    planned_states = [\n",
    "        PlannedState(pos=p) for p in state.lane_path.centerline\n",
    "    ][closest_index:closest_index+ max_poses_count]\n",
    "\n",
    "    # we have to start trajectory close to ego's current position\n",
    "    planned_states = [PlannedState(pos=Position(vehicle_pos.x, vehicle_pos.y))] + planned_states\n",
    "    print(planned_states)\n",
    "\n",
    "    return PlannedPath(states=planned_states)"
   ]
  },
  {
   "cell_type": "markdown",
   "metadata": {},
   "source": [
    "Чтобы запустить симуляцию алгоритма `do_simple_plan` на сценарии `rough-road`, выполните следующую ячейку и нажмите `Play`. \n",
    "\n",
    "Симуляция должна завершиться с ошибкой `Case failed: Collision with static object` из-за столкновения со статическим препятствием. Также в выводе планера вы увидите время работы и число совершенных тиков планирования (сколько раз запускалась функция `do_simple_plan`)."
   ]
  },
  {
   "cell_type": "code",
   "execution_count": 4,
   "metadata": {},
   "outputs": [
    {
     "name": "stdout",
     "output_type": "stream",
     "text": [
      "You can also open in browser: http://127.0.0.1:8008?scenario=rough-road\n"
     ]
    },
    {
     "data": {
      "text/html": [
       "\n",
       "        <iframe\n",
       "            width=\"100%\"\n",
       "            height=\"650\"\n",
       "            src=\"http://127.0.0.1:8008?scenario=rough-road\"\n",
       "            frameborder=\"0\"\n",
       "            allowfullscreen\n",
       "            \n",
       "        ></iframe>\n",
       "        "
      ],
      "text/plain": [
       "<IPython.lib.display.IFrame at 0x106d7c610>"
      ]
     },
     "metadata": {},
     "output_type": "display_data"
    },
    {
     "name": "stdout",
     "output_type": "stream",
     "text": [
      "Case started\n"
     ]
    },
    {
     "ename": "KeyboardInterrupt",
     "evalue": "",
     "output_type": "error",
     "traceback": [
      "\u001b[0;31m---------------------------------------------------------------------------\u001b[0m",
      "\u001b[0;31mKeyboardInterrupt\u001b[0m                         Traceback (most recent call last)",
      "Cell \u001b[0;32mIn[4], line 4\u001b[0m\n\u001b[1;32m      1\u001b[0m display_simulator(\u001b[38;5;124m'\u001b[39m\u001b[38;5;124mrough-road\u001b[39m\u001b[38;5;124m'\u001b[39m)\n\u001b[1;32m      3\u001b[0m \u001b[38;5;66;03m# run the case in the simulator, watch the visualization\u001b[39;00m\n\u001b[0;32m----> 4\u001b[0m py_planning\u001b[38;5;241m.\u001b[39mrun_planner(\n\u001b[1;32m      5\u001b[0m     do_simple_plan,\n\u001b[1;32m      6\u001b[0m     stop_on_fail\u001b[38;5;241m=\u001b[39m\u001b[38;5;28;01mTrue\u001b[39;00m  \u001b[38;5;66;03m# set to False to continue planning after case fail (useful for debugging, can restart scenario in simulator)\u001b[39;00m\n\u001b[1;32m      7\u001b[0m )\n",
      "File \u001b[0;32m~/shad/dash/py_planning/py_planning.py:42\u001b[0m, in \u001b[0;36mrun_planner\u001b[0;34m(planning_function, stop_on_fail)\u001b[0m\n\u001b[1;32m     39\u001b[0m _p_server\u001b[38;5;241m.\u001b[39mset_planner(planning_function)\n\u001b[1;32m     40\u001b[0m _p_server\u001b[38;5;241m.\u001b[39mset_stop_on_fail(stop_on_fail)\n\u001b[0;32m---> 42\u001b[0m case_status \u001b[38;5;241m=\u001b[39m _p_server\u001b[38;5;241m.\u001b[39mrun()\n\u001b[1;32m     43\u001b[0m \u001b[38;5;28;01mif\u001b[39;00m case_status\u001b[38;5;241m.\u001b[39mcompleted:\n\u001b[1;32m     44\u001b[0m     \u001b[38;5;28mprint\u001b[39m(\u001b[38;5;124m\"\u001b[39m\u001b[38;5;124mCongrats! Case completed successfully.\u001b[39m\u001b[38;5;124m\"\u001b[39m)\n",
      "File \u001b[0;32m~/shad/dash/py_planning/planning_server.py:157\u001b[0m, in \u001b[0;36mPlanningServer.run\u001b[0;34m(self)\u001b[0m\n\u001b[1;32m    155\u001b[0m \u001b[38;5;28mself\u001b[39m\u001b[38;5;241m.\u001b[39mhandles_planning_requests \u001b[38;5;241m=\u001b[39m \u001b[38;5;28;01mTrue\u001b[39;00m\n\u001b[1;32m    156\u001b[0m \u001b[38;5;28;01mwhile\u001b[39;00m \u001b[38;5;28mself\u001b[39m\u001b[38;5;241m.\u001b[39mhandles_planning_requests:\n\u001b[0;32m--> 157\u001b[0m     \u001b[38;5;28mself\u001b[39m\u001b[38;5;241m.\u001b[39mhandle_request()\n\u001b[1;32m    158\u001b[0m \u001b[38;5;28;01mreturn\u001b[39;00m \u001b[38;5;28mself\u001b[39m\u001b[38;5;241m.\u001b[39mcase_status\n",
      "File \u001b[0;32m/opt/anaconda3/lib/python3.11/socketserver.py:295\u001b[0m, in \u001b[0;36mBaseServer.handle_request\u001b[0;34m(self)\u001b[0m\n\u001b[1;32m    292\u001b[0m selector\u001b[38;5;241m.\u001b[39mregister(\u001b[38;5;28mself\u001b[39m, selectors\u001b[38;5;241m.\u001b[39mEVENT_READ)\n\u001b[1;32m    294\u001b[0m \u001b[38;5;28;01mwhile\u001b[39;00m \u001b[38;5;28;01mTrue\u001b[39;00m:\n\u001b[0;32m--> 295\u001b[0m     ready \u001b[38;5;241m=\u001b[39m selector\u001b[38;5;241m.\u001b[39mselect(timeout)\n\u001b[1;32m    296\u001b[0m     \u001b[38;5;28;01mif\u001b[39;00m ready:\n\u001b[1;32m    297\u001b[0m         \u001b[38;5;28;01mreturn\u001b[39;00m \u001b[38;5;28mself\u001b[39m\u001b[38;5;241m.\u001b[39m_handle_request_noblock()\n",
      "File \u001b[0;32m/opt/anaconda3/lib/python3.11/selectors.py:415\u001b[0m, in \u001b[0;36m_PollLikeSelector.select\u001b[0;34m(self, timeout)\u001b[0m\n\u001b[1;32m    413\u001b[0m ready \u001b[38;5;241m=\u001b[39m []\n\u001b[1;32m    414\u001b[0m \u001b[38;5;28;01mtry\u001b[39;00m:\n\u001b[0;32m--> 415\u001b[0m     fd_event_list \u001b[38;5;241m=\u001b[39m \u001b[38;5;28mself\u001b[39m\u001b[38;5;241m.\u001b[39m_selector\u001b[38;5;241m.\u001b[39mpoll(timeout)\n\u001b[1;32m    416\u001b[0m \u001b[38;5;28;01mexcept\u001b[39;00m \u001b[38;5;167;01mInterruptedError\u001b[39;00m:\n\u001b[1;32m    417\u001b[0m     \u001b[38;5;28;01mreturn\u001b[39;00m ready\n",
      "\u001b[0;31mKeyboardInterrupt\u001b[0m: "
     ]
    }
   ],
   "source": [
    "display_simulator('rough-road')\n",
    "\n",
    "# run the case in the simulator, watch the visualization\n",
    "py_planning.run_planner(\n",
    "    do_simple_plan,\n",
    "    stop_on_fail=True  # set to False to continue planning after case fail (useful for debugging, can restart scenario in simulator)\n",
    ")"
   ]
  },
  {
   "cell_type": "markdown",
   "metadata": {},
   "source": [
    "## Задание"
   ]
  },
  {
   "cell_type": "markdown",
   "metadata": {},
   "source": [
    "Реализуйте функцию `do_plan` и проверьте ее работу на пяти сценариях, предложенных ниже.\n",
    "\n",
    "**ВАЖНО!!!** Перед отправкой ноутбука запустите команду `Kernel -> Restart Kernel and Run All Cells` и последовательно запустите симуляцию сценариев, сохраните и отправьте ноутбук вместе с полученными выходами ячеек. Обратите внимание, что **при проверке запускаться и оцениваться будут только те сценарии, которые отмечены, как успешно пройденные**, то есть вывод ячейки содержит строку `Congrats! Case completed successfully`.\n",
    "\n",
    "В каждом сценарии вам нужно будет доехать до конца дороги, уложившись в лимит по времени, так, чтобы:\n",
    "- не задеть статических и динамических препятствий;\n",
    "- не выехать за пределы дороги;\n",
    "- не превысить скоростной лимит."
   ]
  },
  {
   "cell_type": "code",
   "execution_count": 5,
   "metadata": {},
   "outputs": [],
   "source": [
    "def do_plan(state: State) -> PlannedPath:\n",
    "    return PlannedPath(states=[PlannedState(pos=state.vehicle_pose.pos, velocity=0) for i in range(10)])"
   ]
  },
  {
   "cell_type": "markdown",
   "metadata": {},
   "source": [
    "#### Сценарий №1 (2 балла)\n",
    "\n",
    "В данном сценарии вам необходимо объехать статические препятствия по извилистой дороге. Для этого нужно реализовать планер геометрии. Например, вы можете воспользоваться графовым планером, который мы обсуждали в пятой лекции (также тут будут полезны пятый и шестой семинары), либо доработать логику из функции `do_simple_plan` эвристически. Также в своем решении вы можете использовать любые другие подходы.\n",
    "\n",
    "Ограничение по времени на прохождение сценария: 25 секунд."
   ]
  },
  {
   "cell_type": "code",
   "execution_count": 6,
   "metadata": {},
   "outputs": [
    {
     "name": "stdout",
     "output_type": "stream",
     "text": [
      "You can also open in browser: http://127.0.0.1:8008?scenario=rough-road\n"
     ]
    },
    {
     "data": {
      "text/html": [
       "\n",
       "        <iframe\n",
       "            width=\"100%\"\n",
       "            height=\"650\"\n",
       "            src=\"http://127.0.0.1:8008?scenario=rough-road\"\n",
       "            frameborder=\"0\"\n",
       "            allowfullscreen\n",
       "            \n",
       "        ></iframe>\n",
       "        "
      ],
      "text/plain": [
       "<IPython.lib.display.IFrame at 0x108685950>"
      ]
     },
     "metadata": {},
     "output_type": "display_data"
    },
    {
     "name": "stdout",
     "output_type": "stream",
     "text": [
      "Case started\n"
     ]
    },
    {
     "ename": "KeyboardInterrupt",
     "evalue": "",
     "output_type": "error",
     "traceback": [
      "\u001b[0;31m---------------------------------------------------------------------------\u001b[0m",
      "\u001b[0;31mKeyboardInterrupt\u001b[0m                         Traceback (most recent call last)",
      "Cell \u001b[0;32mIn[6], line 4\u001b[0m\n\u001b[1;32m      1\u001b[0m display_simulator(\u001b[38;5;124m'\u001b[39m\u001b[38;5;124mrough-road\u001b[39m\u001b[38;5;124m'\u001b[39m)\n\u001b[1;32m      3\u001b[0m \u001b[38;5;66;03m# run the case in the simulator, watch the visualization\u001b[39;00m\n\u001b[0;32m----> 4\u001b[0m py_planning\u001b[38;5;241m.\u001b[39mrun_planner(\n\u001b[1;32m      5\u001b[0m     do_plan,\n\u001b[1;32m      6\u001b[0m     stop_on_fail\u001b[38;5;241m=\u001b[39m\u001b[38;5;28;01mTrue\u001b[39;00m  \u001b[38;5;66;03m# set to False to continue planning after case fail (useful for debugging, can restart scenario in simulator)\u001b[39;00m\n\u001b[1;32m      7\u001b[0m )\n",
      "File \u001b[0;32m~/shad/dash/py_planning/py_planning.py:42\u001b[0m, in \u001b[0;36mrun_planner\u001b[0;34m(planning_function, stop_on_fail)\u001b[0m\n\u001b[1;32m     39\u001b[0m _p_server\u001b[38;5;241m.\u001b[39mset_planner(planning_function)\n\u001b[1;32m     40\u001b[0m _p_server\u001b[38;5;241m.\u001b[39mset_stop_on_fail(stop_on_fail)\n\u001b[0;32m---> 42\u001b[0m case_status \u001b[38;5;241m=\u001b[39m _p_server\u001b[38;5;241m.\u001b[39mrun()\n\u001b[1;32m     43\u001b[0m \u001b[38;5;28;01mif\u001b[39;00m case_status\u001b[38;5;241m.\u001b[39mcompleted:\n\u001b[1;32m     44\u001b[0m     \u001b[38;5;28mprint\u001b[39m(\u001b[38;5;124m\"\u001b[39m\u001b[38;5;124mCongrats! Case completed successfully.\u001b[39m\u001b[38;5;124m\"\u001b[39m)\n",
      "File \u001b[0;32m~/shad/dash/py_planning/planning_server.py:157\u001b[0m, in \u001b[0;36mPlanningServer.run\u001b[0;34m(self)\u001b[0m\n\u001b[1;32m    155\u001b[0m \u001b[38;5;28mself\u001b[39m\u001b[38;5;241m.\u001b[39mhandles_planning_requests \u001b[38;5;241m=\u001b[39m \u001b[38;5;28;01mTrue\u001b[39;00m\n\u001b[1;32m    156\u001b[0m \u001b[38;5;28;01mwhile\u001b[39;00m \u001b[38;5;28mself\u001b[39m\u001b[38;5;241m.\u001b[39mhandles_planning_requests:\n\u001b[0;32m--> 157\u001b[0m     \u001b[38;5;28mself\u001b[39m\u001b[38;5;241m.\u001b[39mhandle_request()\n\u001b[1;32m    158\u001b[0m \u001b[38;5;28;01mreturn\u001b[39;00m \u001b[38;5;28mself\u001b[39m\u001b[38;5;241m.\u001b[39mcase_status\n",
      "File \u001b[0;32m/opt/anaconda3/lib/python3.11/socketserver.py:295\u001b[0m, in \u001b[0;36mBaseServer.handle_request\u001b[0;34m(self)\u001b[0m\n\u001b[1;32m    292\u001b[0m selector\u001b[38;5;241m.\u001b[39mregister(\u001b[38;5;28mself\u001b[39m, selectors\u001b[38;5;241m.\u001b[39mEVENT_READ)\n\u001b[1;32m    294\u001b[0m \u001b[38;5;28;01mwhile\u001b[39;00m \u001b[38;5;28;01mTrue\u001b[39;00m:\n\u001b[0;32m--> 295\u001b[0m     ready \u001b[38;5;241m=\u001b[39m selector\u001b[38;5;241m.\u001b[39mselect(timeout)\n\u001b[1;32m    296\u001b[0m     \u001b[38;5;28;01mif\u001b[39;00m ready:\n\u001b[1;32m    297\u001b[0m         \u001b[38;5;28;01mreturn\u001b[39;00m \u001b[38;5;28mself\u001b[39m\u001b[38;5;241m.\u001b[39m_handle_request_noblock()\n",
      "File \u001b[0;32m/opt/anaconda3/lib/python3.11/selectors.py:415\u001b[0m, in \u001b[0;36m_PollLikeSelector.select\u001b[0;34m(self, timeout)\u001b[0m\n\u001b[1;32m    413\u001b[0m ready \u001b[38;5;241m=\u001b[39m []\n\u001b[1;32m    414\u001b[0m \u001b[38;5;28;01mtry\u001b[39;00m:\n\u001b[0;32m--> 415\u001b[0m     fd_event_list \u001b[38;5;241m=\u001b[39m \u001b[38;5;28mself\u001b[39m\u001b[38;5;241m.\u001b[39m_selector\u001b[38;5;241m.\u001b[39mpoll(timeout)\n\u001b[1;32m    416\u001b[0m \u001b[38;5;28;01mexcept\u001b[39;00m \u001b[38;5;167;01mInterruptedError\u001b[39;00m:\n\u001b[1;32m    417\u001b[0m     \u001b[38;5;28;01mreturn\u001b[39;00m ready\n",
      "\u001b[0;31mKeyboardInterrupt\u001b[0m: "
     ]
    }
   ],
   "source": [
    "display_simulator('rough-road')\n",
    "\n",
    "# run the case in the simulator, watch the visualization\n",
    "py_planning.run_planner(\n",
    "    do_plan,\n",
    "    stop_on_fail=True  # set to False to continue planning after case fail (useful for debugging, can restart scenario in simulator)\n",
    ")"
   ]
  },
  {
   "cell_type": "markdown",
   "metadata": {},
   "source": [
    "#### Сценарий №2 (2 балла)\n",
    "\n",
    "В данном сценарии вам так же необходимо объехать статические препятствия, как и в пердыдущем.\n",
    "\n",
    "Ограничение по времени на прохождение сценария: 20 секунд."
   ]
  },
  {
   "cell_type": "code",
   "execution_count": 7,
   "metadata": {},
   "outputs": [
    {
     "name": "stdout",
     "output_type": "stream",
     "text": [
      "You can also open in browser: http://127.0.0.1:8008?scenario=avoid-static\n"
     ]
    },
    {
     "data": {
      "text/html": [
       "\n",
       "        <iframe\n",
       "            width=\"100%\"\n",
       "            height=\"650\"\n",
       "            src=\"http://127.0.0.1:8008?scenario=avoid-static\"\n",
       "            frameborder=\"0\"\n",
       "            allowfullscreen\n",
       "            \n",
       "        ></iframe>\n",
       "        "
      ],
      "text/plain": [
       "<IPython.lib.display.IFrame at 0x1079ab850>"
      ]
     },
     "metadata": {},
     "output_type": "display_data"
    },
    {
     "name": "stdout",
     "output_type": "stream",
     "text": [
      "Case started\n"
     ]
    },
    {
     "ename": "KeyboardInterrupt",
     "evalue": "",
     "output_type": "error",
     "traceback": [
      "\u001b[0;31m---------------------------------------------------------------------------\u001b[0m",
      "\u001b[0;31mKeyboardInterrupt\u001b[0m                         Traceback (most recent call last)",
      "Cell \u001b[0;32mIn[7], line 4\u001b[0m\n\u001b[1;32m      1\u001b[0m display_simulator(\u001b[38;5;124m'\u001b[39m\u001b[38;5;124mavoid-static\u001b[39m\u001b[38;5;124m'\u001b[39m)\n\u001b[1;32m      3\u001b[0m \u001b[38;5;66;03m# run the case in the simulator, watch the visualization\u001b[39;00m\n\u001b[0;32m----> 4\u001b[0m py_planning\u001b[38;5;241m.\u001b[39mrun_planner(\n\u001b[1;32m      5\u001b[0m     do_plan,\n\u001b[1;32m      6\u001b[0m     stop_on_fail\u001b[38;5;241m=\u001b[39m\u001b[38;5;28;01mTrue\u001b[39;00m  \u001b[38;5;66;03m# set to False to continue planning after case fail (useful for debugging, can restart scenario in simulator)\u001b[39;00m\n\u001b[1;32m      7\u001b[0m )\n",
      "File \u001b[0;32m~/shad/dash/py_planning/py_planning.py:42\u001b[0m, in \u001b[0;36mrun_planner\u001b[0;34m(planning_function, stop_on_fail)\u001b[0m\n\u001b[1;32m     39\u001b[0m _p_server\u001b[38;5;241m.\u001b[39mset_planner(planning_function)\n\u001b[1;32m     40\u001b[0m _p_server\u001b[38;5;241m.\u001b[39mset_stop_on_fail(stop_on_fail)\n\u001b[0;32m---> 42\u001b[0m case_status \u001b[38;5;241m=\u001b[39m _p_server\u001b[38;5;241m.\u001b[39mrun()\n\u001b[1;32m     43\u001b[0m \u001b[38;5;28;01mif\u001b[39;00m case_status\u001b[38;5;241m.\u001b[39mcompleted:\n\u001b[1;32m     44\u001b[0m     \u001b[38;5;28mprint\u001b[39m(\u001b[38;5;124m\"\u001b[39m\u001b[38;5;124mCongrats! Case completed successfully.\u001b[39m\u001b[38;5;124m\"\u001b[39m)\n",
      "File \u001b[0;32m~/shad/dash/py_planning/planning_server.py:157\u001b[0m, in \u001b[0;36mPlanningServer.run\u001b[0;34m(self)\u001b[0m\n\u001b[1;32m    155\u001b[0m \u001b[38;5;28mself\u001b[39m\u001b[38;5;241m.\u001b[39mhandles_planning_requests \u001b[38;5;241m=\u001b[39m \u001b[38;5;28;01mTrue\u001b[39;00m\n\u001b[1;32m    156\u001b[0m \u001b[38;5;28;01mwhile\u001b[39;00m \u001b[38;5;28mself\u001b[39m\u001b[38;5;241m.\u001b[39mhandles_planning_requests:\n\u001b[0;32m--> 157\u001b[0m     \u001b[38;5;28mself\u001b[39m\u001b[38;5;241m.\u001b[39mhandle_request()\n\u001b[1;32m    158\u001b[0m \u001b[38;5;28;01mreturn\u001b[39;00m \u001b[38;5;28mself\u001b[39m\u001b[38;5;241m.\u001b[39mcase_status\n",
      "File \u001b[0;32m/opt/anaconda3/lib/python3.11/socketserver.py:295\u001b[0m, in \u001b[0;36mBaseServer.handle_request\u001b[0;34m(self)\u001b[0m\n\u001b[1;32m    292\u001b[0m selector\u001b[38;5;241m.\u001b[39mregister(\u001b[38;5;28mself\u001b[39m, selectors\u001b[38;5;241m.\u001b[39mEVENT_READ)\n\u001b[1;32m    294\u001b[0m \u001b[38;5;28;01mwhile\u001b[39;00m \u001b[38;5;28;01mTrue\u001b[39;00m:\n\u001b[0;32m--> 295\u001b[0m     ready \u001b[38;5;241m=\u001b[39m selector\u001b[38;5;241m.\u001b[39mselect(timeout)\n\u001b[1;32m    296\u001b[0m     \u001b[38;5;28;01mif\u001b[39;00m ready:\n\u001b[1;32m    297\u001b[0m         \u001b[38;5;28;01mreturn\u001b[39;00m \u001b[38;5;28mself\u001b[39m\u001b[38;5;241m.\u001b[39m_handle_request_noblock()\n",
      "File \u001b[0;32m/opt/anaconda3/lib/python3.11/selectors.py:415\u001b[0m, in \u001b[0;36m_PollLikeSelector.select\u001b[0;34m(self, timeout)\u001b[0m\n\u001b[1;32m    413\u001b[0m ready \u001b[38;5;241m=\u001b[39m []\n\u001b[1;32m    414\u001b[0m \u001b[38;5;28;01mtry\u001b[39;00m:\n\u001b[0;32m--> 415\u001b[0m     fd_event_list \u001b[38;5;241m=\u001b[39m \u001b[38;5;28mself\u001b[39m\u001b[38;5;241m.\u001b[39m_selector\u001b[38;5;241m.\u001b[39mpoll(timeout)\n\u001b[1;32m    416\u001b[0m \u001b[38;5;28;01mexcept\u001b[39;00m \u001b[38;5;167;01mInterruptedError\u001b[39;00m:\n\u001b[1;32m    417\u001b[0m     \u001b[38;5;28;01mreturn\u001b[39;00m ready\n",
      "\u001b[0;31mKeyboardInterrupt\u001b[0m: "
     ]
    }
   ],
   "source": [
    "display_simulator('avoid-static')\n",
    "\n",
    "# run the case in the simulator, watch the visualization\n",
    "py_planning.run_planner(\n",
    "    do_plan,\n",
    "    stop_on_fail=True  # set to False to continue planning after case fail (useful for debugging, can restart scenario in simulator)\n",
    ")"
   ]
  },
  {
   "cell_type": "markdown",
   "metadata": {},
   "source": [
    "#### Сценарий №3 (2 балла)\n",
    "\n",
    "В данном сценарии вам необходимо пропустить пешеходов на пешеходном переходе. Здесь необходимо реализовать уже планер скорости. Это также можно сделать, например, при помощи графового планера, либо при помощи эвристик. Также в своем решении вы можете использовать любые другие подходы.\n",
    "\n",
    "Ограничение по времени на прохождение сценария: 45 секунд."
   ]
  },
  {
   "cell_type": "code",
   "execution_count": null,
   "metadata": {},
   "outputs": [
    {
     "name": "stdout",
     "output_type": "stream",
     "text": [
      "You can also open in browser: http://127.0.0.1:8008?scenario=crosswalks\n"
     ]
    },
    {
     "data": {
      "text/html": [
       "\n",
       "        <iframe\n",
       "            width=\"100%\"\n",
       "            height=\"650\"\n",
       "            src=\"http://127.0.0.1:8008?scenario=crosswalks\"\n",
       "            frameborder=\"0\"\n",
       "            allowfullscreen\n",
       "            \n",
       "        ></iframe>\n",
       "        "
      ],
      "text/plain": [
       "<IPython.lib.display.IFrame at 0x123531210>"
      ]
     },
     "metadata": {},
     "output_type": "display_data"
    },
    {
     "name": "stdout",
     "output_type": "stream",
     "text": [
      "Case started\n"
     ]
    }
   ],
   "source": [
    "display_simulator('crosswalks')\n",
    "\n",
    "# run the case in the simulator, watch the visualization\n",
    "py_planning.run_planner(\n",
    "    do_plan,\n",
    "    stop_on_fail=True  # set to False to continue planning after case fail (useful for debugging, can restart scenario in simulator)\n",
    ")"
   ]
  },
  {
   "cell_type": "markdown",
   "metadata": {},
   "source": [
    "#### Сценарий №4 (2 балла)\n",
    "\n",
    "В данном сценарии вам необходимо обогнать два медленных автомобиля. \n",
    "\n",
    "Ограничение по времени на прохождение сценария: 35 секунд."
   ]
  },
  {
   "cell_type": "code",
   "execution_count": null,
   "metadata": {},
   "outputs": [],
   "source": [
    "display_simulator('two-car-overtake')\n",
    "\n",
    "# run the case in the simulator, watch the visualization\n",
    "py_planning.run_planner(\n",
    "    do_plan,\n",
    "    stop_on_fail=True  # set to False to continue planning after case fail (useful for debugging, can restart scenario in simulator)\n",
    ")"
   ]
  },
  {
   "cell_type": "markdown",
   "metadata": {},
   "source": [
    "#### Сценарий №5 (2 балла)\n",
    "\n",
    "В данном сценарии вам необходимо встроиться в медленный поток автомобилей.\n",
    "\n",
    "Ограничение по времени на прохождение сценария: 90 секунд."
   ]
  },
  {
   "cell_type": "code",
   "execution_count": null,
   "metadata": {},
   "outputs": [],
   "source": [
    "display_simulator('merging')\n",
    "\n",
    "# run the case in the simulator, watch the visualization\n",
    "py_planning.run_planner(\n",
    "    do_plan,\n",
    "    stop_on_fail=True  # set to False to continue planning after case fail (useful for debugging, can restart scenario in simulator)\n",
    ")"
   ]
  }
 ],
 "metadata": {
  "kernelspec": {
   "display_name": "Python 3 (ipykernel)",
   "language": "python",
   "name": "python3"
  },
  "language_info": {
   "codemirror_mode": {
    "name": "ipython",
    "version": 3
   },
   "file_extension": ".py",
   "mimetype": "text/x-python",
   "name": "python",
   "nbconvert_exporter": "python",
   "pygments_lexer": "ipython3",
   "version": "3.11.7"
  }
 },
 "nbformat": 4,
 "nbformat_minor": 4
}
