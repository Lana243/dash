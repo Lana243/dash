{
 "cells": [
  {
   "cell_type": "markdown",
   "metadata": {},
   "source": [
    "## Планирование движения"
   ]
  },
  {
   "cell_type": "markdown",
   "metadata": {},
   "source": [
    "В данном домашнем задании вам необходимо реализовать свой планер движения. Задача полученного планера -- проехать в симуляции предложенные ниже сценарии. Чем больше сценариев проедет ваш планер, тем выше балл за домашнее задание вы получите."
   ]
  },
  {
   "cell_type": "markdown",
   "metadata": {},
   "source": [
    "#### Установка зависимостей"
   ]
  },
  {
   "cell_type": "code",
   "execution_count": null,
   "metadata": {},
   "outputs": [],
   "source": [
    "%pip install jsonpickle dacite shapely"
   ]
  },
  {
   "cell_type": "markdown",
   "metadata": {},
   "source": [
    "#### Запуск сервера\n",
    "\n",
    "Для каждого запуска ядра ноутбука нужно исполнить эту ячейку один раз."
   ]
  },
  {
   "cell_type": "code",
   "execution_count": null,
   "metadata": {},
   "outputs": [],
   "source": [
    "import py_planning\n",
    "py_planning.init()\n",
    "\n",
    "def display_simulator(case_name):\n",
    "    from IPython.display import IFrame, display\n",
    "    url = 'http://127.0.0.1:8008?scenario=' + case_name\n",
    "    print(\"You can also open in browser: \" + url)\n",
    "    display(IFrame(url, width=\"100%\", height=650))"
   ]
  },
  {
   "cell_type": "markdown",
   "metadata": {},
   "source": [
    "### Пример планера"
   ]
  },
  {
   "cell_type": "markdown",
   "metadata": {},
   "source": [
    "Чтобы реализовать планер, вам необходимо написать функцию, которая на вход принимает текущее состояние автомобиля и окружающего мира (`State`), а выдает план движения автомобиля (`PlannedState`). Подробно с устройством этих сущностей вы можете ознакомиться в файле `py_planning/data_types.py`.\n",
    "\n",
    "Симулятор итеративно обновляет состояние автомобиля `State`, подаваемое на вход функции планирования, при помощи плана движения, который функция планирования вернула на предыдущей итерации."
   ]
  },
  {
   "cell_type": "markdown",
   "metadata": {},
   "source": [
    "Ниже для примера представлен простейший планер. Функция `do_simple_plan` реализует алгоритм, который планирует движение вдоль центра дороги с постоянной скоростью."
   ]
  },
  {
   "cell_type": "code",
   "execution_count": null,
   "metadata": {},
   "outputs": [],
   "source": [
    "from py_planning.data_types import PlannedPath, PlannedState, State  # data types used by planner interface\n",
    "from shapely.geometry import LineString, Point\n",
    "\n",
    "import time\n",
    "\n",
    "\"\"\"\n",
    "find closest point on a polyline to the given point\n",
    "\"\"\"\n",
    "def get_index_of_closest_point(line: LineString, point: Point):\n",
    "    closest_point_index = None\n",
    "    min_distance = float('inf')\n",
    "\n",
    "    for i, line_point in enumerate(line.coords):\n",
    "        line_point = Point(line_point)\n",
    "        distance = point.distance(line_point)\n",
    "        if distance < min_distance:\n",
    "            min_distance = distance\n",
    "            closest_point_index = i\n",
    "\n",
    "    return closest_point_index\n",
    "\n",
    "\"\"\"\n",
    "This function is called by the simulator for each tick.\n",
    "It should return recent planned trajectory up to date with the environment state.\n",
    "'state' parameter contains current world observations and vehicle state.\n",
    "\"\"\"\n",
    "def do_simple_plan(state: State) -> PlannedPath:\n",
    "    vehicle_pose = state.vehicle_pose\n",
    "    vehicle_pos = Point(vehicle_pose.pos.x, vehicle_pose.pos.y)  # current position of the AV\n",
    "\n",
    "    centerline = LineString([(p.x, p.y) for p in state.lane_path.centerline])\n",
    "\n",
    "    closest_index = get_index_of_closest_point(centerline, vehicle_pos)\n",
    "    current_velocity = vehicle_pose.velocity\n",
    "\n",
    "    # we leave some previous poses to make AV control stable\n",
    "    prev_poses_count = 3\n",
    "    max_poses_count = 50\n",
    "    first_pose_index = max(closest_index - prev_poses_count, 0)\n",
    "\n",
    "    # as a baseline here we just follow the centerline\n",
    "    planned_states = [\n",
    "        PlannedState(pos=p) for p in state.lane_path.centerline\n",
    "    ][first_pose_index:first_pose_index + max_poses_count]\n",
    "\n",
    "    return PlannedPath(states=planned_states)"
   ]
  },
  {
   "cell_type": "markdown",
   "metadata": {},
   "source": [
    "Чтобы запустить симуляцию алгоритма `do_simple_plan` на сценарии `rough-road`, выполните следующую ячейку и нажмите `Play`. \n",
    "\n",
    "Симуляция должна завершиться с ошибкой `Case failed: Collision with static object` из-за столкновения со статическим препятствием. Также в выводе планера вы увидите время работы и число совершенных тиков планирования (сколько раз запускалась функция `do_simple_plan`)."
   ]
  },
  {
   "cell_type": "code",
   "execution_count": null,
   "metadata": {},
   "outputs": [],
   "source": [
    "display_simulator('rough-road')\n",
    "\n",
    "# run the case in the simulator, watch the visualization\n",
    "py_planning.run_planner(\n",
    "    do_simple_plan,\n",
    "    stop_on_fail=True  # set to False to continue planning after case fail (useful for debugging, can restart scenario in simulator)\n",
    ")"
   ]
  },
  {
   "cell_type": "markdown",
   "metadata": {},
   "source": [
    "## Задание"
   ]
  },
  {
   "cell_type": "markdown",
   "metadata": {},
   "source": [
    "Реализуйте функцию `do_plan` и проверьте ее работу на пяти сценариях, предложенных ниже.\n",
    "\n",
    "**ВАЖНО!!!** Перед отправкой ноутбука запустите команду `Kernel -> Restart Kernel and Run All Cells` и последовательно запустите симуляцию сценариев, сохраните и отправьте ноутбук вместе с полученными выходами ячеек. Обратите внимание, что **при проверке запускаться и оцениваться будут только те сценарии, которые отмечены, как успешно пройденные**, то есть вывод ячейки содержит строку `Congrats! Case completed successfully`.\n",
    "\n",
    "В каждом сценарии вам нужно будет доехать до конца дороги, уложившись в лимит по времени, так, чтобы:\n",
    "- не задеть статических и динамических препятствий;\n",
    "- не выехать за пределы дороги;\n",
    "- не превысить скоростной лимит."
   ]
  },
  {
   "cell_type": "code",
   "execution_count": null,
   "metadata": {},
   "outputs": [],
   "source": [
    "# def do_plan(state: State) -> PlannedPath:\n",
    "#     # TODO: реализовать планирование движения\n",
    "#     pass\n",
    "\n",
    "# def do_plan(state: State) -> PlannedPath:\n",
    "#     # TODO: реализовать планирование движения\n",
    "#     pass\n",
    "\n",
    "\n",
    "from py_planning.data_types import PlannedPath, PlannedState, State, Position  # data types used by planner interface\n",
    "from shapely.geometry import LineString, Point\n",
    "\n",
    "import time\n",
    "\n",
    "\"\"\"\n",
    "find closest point on a polyline to the given point\n",
    "\"\"\"\n",
    "def get_index_of_closest_point(line: LineString, point: Point):\n",
    "    closest_point_index = None\n",
    "    min_distance = float('inf')\n",
    "\n",
    "    for i, line_point in enumerate(line.coords):\n",
    "        line_point = Point(line_point)\n",
    "        distance = point.distance(line_point)\n",
    "        if distance < min_distance:\n",
    "            min_distance = distance\n",
    "            closest_point_index = i\n",
    "\n",
    "    return closest_point_index, min_distance\n",
    "\n",
    "\n",
    "def dist_to_static(x, y, static_obstacle):\n",
    "    return (x - static_obstacle.p[0]) ** 2 + (y - static_obstacle.p[1]) ** 2\n",
    "\n",
    "\n",
    "def get_closest_static_obstacles(static_obstacles, x, y, k):\n",
    "    obstacles = sorted(static_obstacles, key=lambda obstacle: dist_to_static(x, y, obstacle))\n",
    "    return obstacles[:min(len(obstacles), k)]\n",
    "\n",
    "\n",
    "def dist_to_dynamic(s, t, dynamic_obstacle):\n",
    "    ps = dynamic_obstacle.start_pos.s + dynamic_obstacle.velocity.s * t\n",
    "    return abs(s - ps)\n",
    "\n",
    "\n",
    "def get_closest_dynamic_obstacles(dynamic_obstacles, s, t, k, left):\n",
    "    closest_dynamic_obstacle = None\n",
    "    min_distance = float('inf')\n",
    "    if left:\n",
    "        obstacles = list(filter(lambda o: o.start_pos.l + o.velocity.l * t >= -2 and o.start_pos.l + o.velocity.l * t <= 0, dynamic_obstacles))\n",
    "    else:\n",
    "        obstacles = list(filter(lambda o: o.start_pos.l + o.velocity.l * t >= 0 and o.start_pos.l + o.velocity.l * t <= 2, dynamic_obstacles))\n",
    "    obstacles = list(filter(lambda o: o.start_pos.s + o.velocity.s * t + 5 > s, obstacles))\n",
    "    obstacles = sorted(obstacles, key=lambda obstacle: dist_to_dynamic(s, t, obstacle))\n",
    "    return obstacles[:min(len(obstacles), k)]\n",
    "\n",
    "\"\"\"\n",
    "This function is called by the simulator for each tick.\n",
    "It should return recent planned trajectory up to date with the environment state.\n",
    "'state' parameter contains current world observations and vehicle state.\n",
    "\"\"\"\n",
    "\n",
    "def do_plan(state: State) -> PlannedPath:\n",
    "    vehicle_pose = state.vehicle_pose\n",
    "    vehicle_pos = Point(vehicle_pose.pos.x, vehicle_pose.pos.y)  # current position of the AV\n",
    "\n",
    "    centerline = LineString([(p.x, p.y) for p in state.lane_path.centerline])\n",
    "\n",
    "    closest_index, _ = get_index_of_closest_point(centerline, vehicle_pos)\n",
    "    current_velocity = vehicle_pose.velocity\n",
    "\n",
    "    # we leave some previous poses to make AV control stable\n",
    "    prev_poses_count = 3\n",
    "    max_poses_count = 50\n",
    "    first_pose_index = max(closest_index - prev_poses_count, 0)\n",
    "\n",
    "    second_lane = state.lane_path.centerline\n",
    "    static_obstacle = get_closest_static_obstacles(state.static_obstacles, state.vehicle_pose.pos.x, state.vehicle_pose.pos.y, 1)\n",
    "    if len(static_obstacle) == 1 and dist_to_static(state.vehicle_pose.pos.x, state.vehicle_pose.pos.y, static_obstacle[0]) < 100:\n",
    "        obstacle_pos = Point(static_obstacle[0].p[0], static_obstacle[0].p[1])\n",
    "        left_boundary = LineString([(p.x, p.y) for p in state.lane_path.left_boundaries])\n",
    "        _, distance_left = get_index_of_closest_point(left_boundary, obstacle_pos)\n",
    "        right_boundary = LineString([(p.x, p.y) for p in state.lane_path.right_boundaries])\n",
    "        _, distance_right = get_index_of_closest_point(right_boundary, obstacle_pos)\n",
    "        if distance_left < distance_right:\n",
    "            second_lane = state.lane_path.right_boundaries\n",
    "        else:\n",
    "            second_lane = state.lane_path.left_boundaries\n",
    "    else:\n",
    "        second_lane = state.lane_path.centerline\n",
    "\n",
    "\n",
    "    acc = 0.0\n",
    "    if state.vehicle_pose.velocity < state.speed_limit:\n",
    "        acc = 1.0\n",
    "    left_dyn = get_closest_dynamic_obstacles(state.dynamic_obstacles, state.vehicle_station, state.simulation_time, 1, True)\n",
    "    right_dyn = get_closest_dynamic_obstacles(state.dynamic_obstacles, state.vehicle_station, state.simulation_time, 1, False)\n",
    "    if len(left_dyn) == 0 or dist_to_dynamic(state.vehicle_station, state.simulation_time, left_dyn[0]) > 200:\n",
    "        if len(right_dyn) != 0 and dist_to_dynamic(state.vehicle_station, state.simulation_time, right_dyn[0]) < 200:\n",
    "            second_lane = state.lane_path.left_boundaries\n",
    "    elif len(right_dyn) == 0 or dist_to_dynamic(state.vehicle_station, state.simulation_time, right_dyn[0]) > 200:\n",
    "        second_lane = state.lane_path.right_boundaries\n",
    "    elif left_dyn[0].velocity.s > right_dyn[0].velocity.s:\n",
    "        second_lane = state.lane_path.left_boundaries\n",
    "        if state.vehicle_pose.velocity > left_dyn[0].velocity.s:\n",
    "            acc = -5.0\n",
    "        elif left_dyn[0].velocity.s - state.vehicle_pose.velocity > 5:\n",
    "            acc = 5.0\n",
    "    else:\n",
    "        second_lane = state.lane_path.right_boundaries\n",
    "        if state.vehicle_pose.velocity > right_dyn[0].velocity.s:\n",
    "            acc = -5.0\n",
    "        elif right_dyn[0].velocity.s - state.vehicle_pose.velocity > 5:\n",
    "            acc = 5.0\n",
    "\n",
    "    dyn_obstacles_perpendicular = list(filter(lambda o: o.velocity.s == 0,state.dynamic_obstacles))\n",
    "    left_dyn_p = get_closest_dynamic_obstacles(dyn_obstacles_perpendicular, state.vehicle_station, state.simulation_time, 1, True)\n",
    "    right_dyn_p = get_closest_dynamic_obstacles(dyn_obstacles_perpendicular, state.vehicle_station, state.simulation_time, 1, False)\n",
    "    if len(left_dyn_p) != 0 and dist_to_dynamic(state.vehicle_station, state.simulation_time, left_dyn_p[0]) < 100:\n",
    "        second_lane = state.lane_path.centerline\n",
    "        acc = -5.0\n",
    "    if len(right_dyn_p) != 0 and dist_to_dynamic(state.vehicle_station, state.simulation_time, right_dyn_p[0]) < 100:\n",
    "        second_lane = state.lane_path.centerline\n",
    "        acc = -5.0\n",
    "\n",
    "\n",
    "    planned_states = []\n",
    "    for i in range(first_pose_index, min(len(state.lane_path.centerline), first_pose_index+ max_poses_count)):\n",
    "        px = (state.lane_path.centerline[i].x + second_lane[i].x) / 2.0\n",
    "        py = (state.lane_path.centerline[i].y + second_lane[i].y) / 2.0\n",
    "        planned_states.append(PlannedState(pos = Position(px, py), acceleration=acc))\n",
    "\n",
    "    return PlannedPath(states=planned_states)"
   ]
  },
  {
   "cell_type": "markdown",
   "metadata": {},
   "source": [
    "#### Сценарий №1 (2 балла)\n",
    "\n",
    "В данном сценарии вам необходимо объехать статические препятствия по извилистой дороге. Для этого нужно реализовать планер геометрии. Например, вы можете воспользоваться графовым планером, который мы обсуждали в пятой лекции (также тут будут полезны пятый и шестой семинары), либо доработать логику из функции `do_simple_plan` эвристически. Также в своем решении вы можете использовать любые другие подходы.\n",
    "\n",
    "Ограничение по времени на прохождение сценария: 25 секунд."
   ]
  },
  {
   "cell_type": "code",
   "execution_count": null,
   "metadata": {},
   "outputs": [],
   "source": [
    "display_simulator('rough-road')\n",
    "\n",
    "# run the case in the simulator, watch the visualization\n",
    "py_planning.run_planner(\n",
    "    do_plan,\n",
    "    stop_on_fail=True  # set to False to continue planning after case fail (useful for debugging, can restart scenario in simulator)\n",
    ")"
   ]
  },
  {
   "cell_type": "markdown",
   "metadata": {},
   "source": [
    "#### Сценарий №2 (2 балла)\n",
    "\n",
    "В данном сценарии вам так же необходимо объехать статические препятствия, как и в пердыдущем.\n",
    "\n",
    "Ограничение по времени на прохождение сценария: 20 секунд."
   ]
  },
  {
   "cell_type": "code",
   "execution_count": null,
   "metadata": {},
   "outputs": [],
   "source": [
    "display_simulator('avoid-static')\n",
    "\n",
    "# run the case in the simulator, watch the visualization\n",
    "py_planning.run_planner(\n",
    "    do_plan,\n",
    "    stop_on_fail=True  # set to False to continue planning after case fail (useful for debugging, can restart scenario in simulator)\n",
    ")"
   ]
  },
  {
   "cell_type": "markdown",
   "metadata": {},
   "source": [
    "#### Сценарий №3 (2 балла)\n",
    "\n",
    "В данном сценарии вам необходимо пропустить пешеходов на пешеходном переходе. Здесь необходимо реализовать уже планер скорости. Это также можно сделать, например, при помощи графового планера, либо при помощи эвристик. Также в своем решении вы можете использовать любые другие подходы.\n",
    "\n",
    "Ограничение по времени на прохождение сценария: 55 секунд."
   ]
  },
  {
   "cell_type": "code",
   "execution_count": null,
   "metadata": {},
   "outputs": [],
   "source": [
    "display_simulator('crosswalks')\n",
    "\n",
    "# run the case in the simulator, watch the visualization\n",
    "py_planning.run_planner(\n",
    "    do_plan,\n",
    "    stop_on_fail=True  # set to False to continue planning after case fail (useful for debugging, can restart scenario in simulator)\n",
    ")"
   ]
  },
  {
   "cell_type": "markdown",
   "metadata": {},
   "source": [
    "#### Сценарий №4 (2 балла)\n",
    "\n",
    "В данном сценарии вам необходимо обогнать два медленных автомобиля. \n",
    "\n",
    "Ограничение по времени на прохождение сценария: 40 секунд."
   ]
  },
  {
   "cell_type": "code",
   "execution_count": null,
   "metadata": {},
   "outputs": [],
   "source": [
    "display_simulator('two-car-overtake')\n",
    "\n",
    "# run the case in the simulator, watch the visualization\n",
    "py_planning.run_planner(\n",
    "    do_plan,\n",
    "    stop_on_fail=True  # set to False to continue planning after case fail (useful for debugging, can restart scenario in simulator)\n",
    ")"
   ]
  },
  {
   "cell_type": "markdown",
   "metadata": {},
   "source": [
    "#### Сценарий №5 (2 балла)\n",
    "\n",
    "В данном сценарии вам необходимо встроиться в медленный поток автомобилей.\n",
    "\n",
    "Ограничение по времени на прохождение сценария: 90 секунд."
   ]
  },
  {
   "cell_type": "code",
   "execution_count": null,
   "metadata": {},
   "outputs": [],
   "source": [
    "display_simulator('merging')\n",
    "\n",
    "# run the case in the simulator, watch the visualization\n",
    "py_planning.run_planner(\n",
    "    do_plan,\n",
    "    stop_on_fail=True  # set to False to continue planning after case fail (useful for debugging, can restart scenario in simulator)\n",
    ")"
   ]
  }
 ],
 "metadata": {
  "kernelspec": {
   "display_name": "Python 3 (ipykernel)",
   "language": "python",
   "name": "python3"
  },
  "language_info": {
   "codemirror_mode": {
    "name": "ipython",
    "version": 3
   },
   "file_extension": ".py",
   "mimetype": "text/x-python",
   "name": "python",
   "nbconvert_exporter": "python",
   "pygments_lexer": "ipython3",
   "version": "3.11.7"
  }
 },
 "nbformat": 4,
 "nbformat_minor": 4
}
