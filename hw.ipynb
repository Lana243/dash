{
 "cells": [
  {
   "cell_type": "code",
   "execution_count": 4,
   "metadata": {},
   "outputs": [
    {
     "name": "stdout",
     "output_type": "stream",
     "text": [
      "Defaulting to user installation because normal site-packages is not writeable\n",
      "Requirement already satisfied: jsonpickle in /Users/lndstol/Library/Python/3.9/lib/python/site-packages (3.0.3)\n",
      "Requirement already satisfied: dacite in /Users/lndstol/Library/Python/3.9/lib/python/site-packages (1.8.1)\n",
      "Requirement already satisfied: shapely in /Users/lndstol/Library/Python/3.9/lib/python/site-packages (2.0.3)\n",
      "Requirement already satisfied: numpy<2,>=1.14 in /Users/lndstol/Library/Python/3.9/lib/python/site-packages (from shapely) (1.26.4)\n",
      "\u001b[33mWARNING: You are using pip version 21.2.4; however, version 24.0 is available.\n",
      "You should consider upgrading via the '/Library/Developer/CommandLineTools/usr/bin/python3 -m pip install --upgrade pip' command.\u001b[0m\n",
      "Note: you may need to restart the kernel to use updated packages.\n"
     ]
    }
   ],
   "source": [
    "%pip install jsonpickle dacite shapely"
   ]
  },
  {
   "cell_type": "code",
   "execution_count": null,
   "metadata": {},
   "outputs": [],
   "source": [
    "import py_planning\n",
    "py_planning.init()"
   ]
  },
  {
   "cell_type": "markdown",
   "metadata": {},
   "source": [
    "### Visualize the simulation of planner code"
   ]
  },
  {
   "cell_type": "code",
   "execution_count": 2,
   "metadata": {},
   "outputs": [
    {
     "data": {
      "text/html": [
       "\n",
       "        <iframe\n",
       "            width=\"100%\"\n",
       "            height=\"650\"\n",
       "            src=\"http://127.0.0.1:8000\"\n",
       "            frameborder=\"0\"\n",
       "            allowfullscreen\n",
       "            \n",
       "        ></iframe>\n",
       "        "
      ],
      "text/plain": [
       "<IPython.lib.display.IFrame at 0x102e382e0>"
      ]
     },
     "execution_count": 2,
     "metadata": {},
     "output_type": "execute_result"
    }
   ],
   "source": [
    "from IPython.display import IFrame\n",
    "IFrame('http://127.0.0.1:8000', width=\"100%\", height=650)"
   ]
  },
  {
   "cell_type": "markdown",
   "metadata": {},
   "source": [
    "### Place your planner code here, then run the cell and watch at visualization"
   ]
  },
  {
   "cell_type": "code",
   "execution_count": 3,
   "metadata": {},
   "outputs": [
    {
     "name": "stdout",
     "output_type": "stream",
     "text": [
      "Case failed: \n"
     ]
    },
    {
     "name": "stderr",
     "output_type": "stream",
     "text": [
      "----------------------------------------\n",
      "Exception occurred during processing of request from ('127.0.0.1', 58444)\n",
      "Traceback (most recent call last):\n",
      "  File \"/Library/Developer/CommandLineTools/Library/Frameworks/Python3.framework/Versions/3.9/lib/python3.9/socketserver.py\", line 316, in _handle_request_noblock\n",
      "    self.process_request(request, client_address)\n",
      "  File \"/Library/Developer/CommandLineTools/Library/Frameworks/Python3.framework/Versions/3.9/lib/python3.9/socketserver.py\", line 347, in process_request\n",
      "    self.finish_request(request, client_address)\n",
      "  File \"/Users/lndstol/Dev/dash/py_planning/planning_server.py\", line 92, in finish_request\n",
      "    self.RequestHandlerClass(self.do_plan, self.on_case_status, request, client_address, self)\n",
      "  File \"/Users/lndstol/Dev/dash/py_planning/planning_server.py\", line 16, in __init__\n",
      "    super().__init__(*args, **kwargs)\n",
      "  File \"/Library/Developer/CommandLineTools/Library/Frameworks/Python3.framework/Versions/3.9/lib/python3.9/socketserver.py\", line 747, in __init__\n",
      "    self.handle()\n",
      "  File \"/Library/Developer/CommandLineTools/Library/Frameworks/Python3.framework/Versions/3.9/lib/python3.9/http/server.py\", line 434, in handle\n",
      "    self.handle_one_request()\n",
      "  File \"/Library/Developer/CommandLineTools/Library/Frameworks/Python3.framework/Versions/3.9/lib/python3.9/http/server.py\", line 422, in handle_one_request\n",
      "    method()\n",
      "  File \"/Users/lndstol/Dev/dash/py_planning/planning_server.py\", line 28, in do_POST\n",
      "    self.notify_case_status_request()\n",
      "  File \"/Users/lndstol/Dev/dash/py_planning/planning_server.py\", line 64, in notify_case_status_request\n",
      "    self.on_case_status(status)\n",
      "  File \"/Users/lndstol/Dev/dash/py_planning/planning_server.py\", line 103, in on_case_status\n",
      "    self.self.fail_reason  = ''\n",
      "AttributeError: 'PlanningServer' object has no attribute 'self'\n",
      "----------------------------------------\n"
     ]
    }
   ],
   "source": [
    "from py_planning.data_types import PlannedPath, PlannedState, State\n",
    "from shapely.geometry import LineString, Point\n",
    "\n",
    "\n",
    "def get_index_of_closest_point(line: LineString, point: Point):\n",
    "    closest_point_index = None\n",
    "    min_distance = float('inf')\n",
    "\n",
    "    for i, line_point in enumerate(line.coords):\n",
    "        line_point = Point(line_point)\n",
    "        distance = point.distance(line_point)\n",
    "        if distance < min_distance:\n",
    "            min_distance = distance\n",
    "            closest_point_index = i\n",
    "\n",
    "    return closest_point_index\n",
    "\n",
    "\n",
    "def do_plan(state: State) -> PlannedPath:\n",
    "    vehicle_pose = state.vehiclePose\n",
    "    vehicle_pos = Point(vehicle_pose.pos.x, vehicle_pose.pos.y)\n",
    "\n",
    "    all_centerlines = []\n",
    "    for centerline in state.lanePath.centerlines:\n",
    "        all_centerlines.extend(centerline)\n",
    "\n",
    "    centerline = LineString([(p.x, p.y) for p in all_centerlines])\n",
    "\n",
    "    closest_index = get_index_of_closest_point(centerline, vehicle_pos)\n",
    "    current_velocity = vehicle_pose.velocity\n",
    "\n",
    "    prev_poses_count = 3\n",
    "    max_poses_count = 50\n",
    "    first_pose_index = max(closest_index-prev_poses_count, 0)\n",
    "\n",
    "    planned_states = [\n",
    "        PlannedState(pos=p, velocity=current_velocity) for p in all_centerlines\n",
    "    ][first_pose_index:first_pose_index+ max_poses_count]\n",
    "\n",
    "    #planned_states[3].pos.x += 10\n",
    "\n",
    "    return PlannedPath(states=planned_states)\n",
    "\n",
    "py_planning.run_planner(do_plan)"
   ]
  }
 ],
 "metadata": {
  "kernelspec": {
   "display_name": "Python 3",
   "language": "python",
   "name": "python3"
  },
  "language_info": {
   "codemirror_mode": {
    "name": "ipython",
    "version": 3
   },
   "file_extension": ".py",
   "mimetype": "text/x-python",
   "name": "python",
   "nbconvert_exporter": "python",
   "pygments_lexer": "ipython3",
   "version": "3.9.6"
  }
 },
 "nbformat": 4,
 "nbformat_minor": 2
}
